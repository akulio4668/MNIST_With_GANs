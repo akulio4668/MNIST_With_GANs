{
  "nbformat": 4,
  "nbformat_minor": 0,
  "metadata": {
    "kernelspec": {
      "display_name": "Python 3",
      "language": "python",
      "name": "python3"
    },
    "language_info": {
      "codemirror_mode": {
        "name": "ipython",
        "version": 3
      },
      "file_extension": ".py",
      "mimetype": "text/x-python",
      "name": "python",
      "nbconvert_exporter": "python",
      "pygments_lexer": "ipython3",
      "version": "3.7.4"
    },
    "colab": {
      "name": "MNIST_with_GANs.ipynb",
      "provenance": [],
      "collapsed_sections": []
    }
  },
  "cells": [
    {
      "cell_type": "code",
      "metadata": {
        "id": "AadxbOS0MSAG",
        "colab_type": "code",
        "colab": {}
      },
      "source": [
        "from keras.datasets.mnist import load_data\n",
        "import matplotlib.pyplot as plt\n",
        "import numpy as np\n",
        "\n",
        "from keras import Sequential\n",
        "from keras.layers import Conv2D\n",
        "from keras.layers import LeakyReLU\n",
        "from keras.layers import Dropout\n",
        "from keras.layers import Flatten\n",
        "from keras.layers import Dense\n",
        "from keras.layers import Reshape\n",
        "from keras.layers import Conv2DTranspose\n",
        "from keras.optimizers import Adam"
      ],
      "execution_count": null,
      "outputs": []
    },
    {
      "cell_type": "code",
      "metadata": {
        "id": "nq2UxwtrMSAK",
        "colab_type": "code",
        "colab": {}
      },
      "source": [
        "def define_discriminator(in_shape=(28,28,1)):\n",
        "    model = Sequential()\n",
        "    model.add(Conv2D(64, (3,3), strides=(2,2), padding=\"same\", input_shape=in_shape))\n",
        "    model.add(LeakyReLU(alpha=0.2))\n",
        "    model.add(Dropout(0.4))\n",
        "    model.add(Conv2D(64, (3,3), strides=(2,2), padding=\"same\")) \n",
        "    model.add(LeakyReLU(alpha=0.2))\n",
        "    model.add(Dropout(0.4))\n",
        "    model.add(Flatten())\n",
        "    model.add(Dense(1, activation=\"sigmoid\"))\n",
        "    # compile model\n",
        "    adam_opt = Adam(lr=0.0002, beta_1=0.5)\n",
        "    model.compile(loss='binary_crossentropy', optimizer=adam_opt, metrics=['accuracy'])\n",
        "    return model\n",
        "\n",
        "def load_and_norm_samples():\n",
        "    (train_data, _), (_, _) = load_data()\n",
        "    training_images = np.expand_dims(train_data, axis = -1)\n",
        "    training_images = training_images.astype('float32')\n",
        "    training_images = training_images / 255.0\n",
        "    return training_images\n",
        "    \n",
        "def generate_real_samples(dataset, num_samples):\n",
        "    idx = np.random.randint(0, dataset.shape[0], num_samples)\n",
        "    gen_data = dataset[idx]\n",
        "    gen_labels = np.ones((num_samples, 1))\n",
        "    return gen_data, gen_labels\n",
        "    \n",
        "def generate_fake_images(num_samples):\n",
        "    gen_data = np.random.rand(28 * 28 * num_samples)\n",
        "    gen_data = gen_data.reshape((num_samples, 28, 28, 1))\n",
        "    gen_labels = np.zeros((num_samples, 1))\n",
        "    return gen_data, gen_labels\n",
        "\n",
        "def train_discriminator(model, dataset, num_periods=100, batch_size=256):\n",
        "    half_batch_size = int(batch_size / 2)\n",
        "    for epoch in range(num_periods):\n",
        "        image_real, label_real = generate_real_images(dataset, half_batch_size)\n",
        "        _, real_acc = model.train_on_batch(image_real, label_real)\n",
        "        image_fake, label_fake = generate_fake_images(half_batch_size)\n",
        "        _, fake_acc = model.train_on_batch(image_fake, label_fake)\n",
        "        print('>%d real=%.0f%% fake=%.0f%%' % (epoch + 1, real_acc * 100, fake_acc * 100))"
      ],
      "execution_count": null,
      "outputs": []
    },
    {
      "cell_type": "code",
      "metadata": {
        "id": "2ZU7n5PrMSAM",
        "colab_type": "code",
        "colab": {}
      },
      "source": [
        "def define_generator(latent_dim):\n",
        "    model = Sequential()\n",
        "    num_nodes = 128 * 7 * 7\n",
        "    model.add(Dense(num_nodes, input_dim=latent_dim))\n",
        "    model.add(LeakyReLU(alpha=0.2))\n",
        "    model.add(Reshape((7, 7, 128)))\n",
        "    model.add(Conv2DTranspose(128, (4,4), strides=(2,2), padding='same'))\n",
        "    model.add(LeakyReLU(alpha=0.2))\n",
        "    model.add(Conv2DTranspose(128, (4,4), strides=(2,2), padding='same'))\n",
        "    model.add(LeakyReLU(alpha=0.2))\n",
        "    model.add(Conv2D(1, (7,7), activation='sigmoid', padding='same'))\n",
        "    return model\n",
        "\n",
        "def generate_latent_points(latent_dim, num_samples):\n",
        "    train_input = np.random.randn(latent_dim * num_samples)\n",
        "    train_input = train_input.reshape(num_samples, latent_dim)\n",
        "    return train_input\n",
        "\n",
        "def generate_fake_samples(g_model, latent_dim, num_samples):\n",
        "    train_input = generate_latent_points(latent_dim, num_samples)\n",
        "    training_images = g_model.predict(train_input)\n",
        "    training_labels = np.zeros((num_samples, 1))\n",
        "    return training_images, training_labels"
      ],
      "execution_count": null,
      "outputs": []
    },
    {
      "cell_type": "code",
      "metadata": {
        "id": "uh_28wkuA4vv",
        "colab_type": "code",
        "colab": {}
      },
      "source": [
        "def define_gan(g_model, d_model):\n",
        "    d_model.trainable = False\n",
        "    model = Sequential()\n",
        "    model.add(g_model)\n",
        "    model.add(d_model)\n",
        "    # compile model\n",
        "    adam_opt = Adam(lr=0.0002, beta_1=0.5)\n",
        "    model.compile(loss='binary_crossentropy', optimizer=adam_opt)\n",
        "    return model\n",
        "\n",
        "def train_gan(gan_model, latent_dim, num_epochs=100, n_batch=256):\n",
        "    for i in range(num_epochs):\n",
        "        image_gan = generate_latent_points(latent_dim, n_batch)\n",
        "        labels_gan = ones((n_batch, 1))\n",
        "        gan_model.train_on_batch(image_gan, labels_gan)\n",
        "\n",
        "def train(g_model, d_model, gan_model, dataset, latent_dim, num_epochs=100, num_batch=256):\n",
        "    batch_per_epoch = int(dataset.shape[0] / num_batch)\n",
        "    half_batch = int(num_batch / 2)\n",
        "    for i in range(num_epochs):\n",
        "        for j in range(batch_per_epoch):\n",
        "            images_real, labels_real = generate_real_samples(dataset, half_batch)\n",
        "            images_fake, labels_fake = generate_fake_samples(g_model, latent_dim, half_batch)\n",
        "            images, labels = np.vstack((images_real, images_fake)), np.vstack((labels_real, labels_fake))\n",
        "            disc_loss, _ = d_model.train_on_batch(images, labels)\n",
        "            images_gan = generate_latent_points(latent_dim, num_batch)\n",
        "            labels_gan = np.ones((num_batch, 1))\n",
        "            gan_loss = gan_model.train_on_batch(images_gan, labels_gan)\n",
        "            print('>%d, %d/%d, d=%.3f, g=%.3f' % (i+1, j+1, batch_per_epoch, disc_loss, gan_loss))\n",
        "        if (i+1)%10 == 0:\n",
        "            summarize_performance(i, g_model, d_model, dataset, latent_dim)\n",
        "\n",
        "\n",
        "def summarize_performance(epoch, g_model, d_model, dataset, latent_dim, num_samples=100):\n",
        "    images_real, labels_real = generate_real_samples(dataset, num_samples)\n",
        "    _, acc_real = d_model.evaluate(images_real, labels_real, verbose=0)\n",
        "    images_fake, labels_fake = generate_fake_samples(g_model, latent_dim, num_samples)\n",
        "    _, acc_fake = d_model.evaluate(images_fake, labels_fake, verbose=0)\n",
        "    print('Accuracy: real-%.0f% fake-%.0f%' % (acc_real, acc_fake))\n",
        "    save_plot(images_fake, epoch)\n",
        "    filename = 'generator_model_%03d.h5' % (epoch + 1)\n",
        "    g_model.save(filename)\n",
        "\n",
        "def save_plot(examples, epoch, n=10):\n",
        "    for i in range(n*n):\n",
        "        plt.subplot(n, n, i+1)\n",
        "        plt.axis('off')\n",
        "        plt.imshow(examples[i, :, :, 0], cmap='gray_r')\n",
        "    filename = 'generated_plot_e%03d.png' % (epoch+1)\n",
        "    plt.savefig(filename)\n",
        "    plt.close()\n",
        "  "
      ],
      "execution_count": null,
      "outputs": []
    },
    {
      "cell_type": "code",
      "metadata": {
        "id": "yHNmjh24MSAR",
        "colab_type": "code",
        "colab": {}
      },
      "source": [
        "latent_dim = 100\n",
        "discriminator_model = define_discriminator()\n",
        "generator_model = define_generator(latent_dim)\n",
        "gan_model = define_gan(generator_model, discriminator_model)\n",
        "dataset = load_and_norm_samples()\n",
        "train(generator_model, discriminator_model, gan_model, dataset, latent_dim)"
      ],
      "execution_count": null,
      "outputs": []
    },
    {
      "cell_type": "code",
      "metadata": {
        "id": "7UuM-BxgCDVG",
        "colab_type": "code",
        "colab": {}
      },
      "source": [
        ""
      ],
      "execution_count": null,
      "outputs": []
    }
  ]
}
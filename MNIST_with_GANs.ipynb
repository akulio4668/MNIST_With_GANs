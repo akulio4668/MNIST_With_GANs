{
 "cells": [
  {
   "cell_type": "code",
   "execution_count": null,
   "metadata": {},
   "outputs": [],
   "source": [
    "from keras.datasets.mnist import load_data\n",
    "import matplotlib.pyplot as plt\n",
    "import numpy as np\n",
    "\n",
    "from keras import Sequential\n",
    "from keras.layers import Conv2D\n",
    "from keras.layers import Flatten\n",
    "from keras.layers import Dense\n",
    "from keras.optimizers import Adam"
   ]
  },
  {
   "cell_type": "code",
   "execution_count": null,
   "metadata": {},
   "outputs": [],
   "source": [
    "def define_discriminator(in_shape=(28,28,1)):\n",
    "    model = Sequential()\n",
    "    model.add(Conv2D(64, (3,3), input_shape=in_shape))\n",
    "    model.add(Conv2D(64, (3,3))) \n",
    "    model.add(Flatten())\n",
    "    model.add(Dense(1, activation=\"sigmoid\"))\n",
    "    # compile model\n",
    "    adam_opt = Adam(lr=0.0002, beta_1=0.5)\n",
    "    model.compile(loss='binary_crossentropy', optimizer=adam_opt, metrics=['accuracy'])\n",
    "    return model\n",
    "\n",
    "def load_and_norm_samples():\n",
    "    (train_data, _), (_, _) = load_data()\n",
    "    train_data = np.expand_dims(trains_data, axis = -1)\n",
    "    train_data = training_images.astype('float32') / 255.0\n",
    "    return train_data\n",
    "    \n",
    "def generate_real_images(dataset, num_samples):\n",
    "    idx = np.randint(0, dataset.shape[0], num_samples)\n",
    "    gen_data = dataset[idx]\n",
    "    gen_labels = np.ones((num_samples, 1))\n",
    "    return gen_data, gen_labels\n",
    "    \n",
    "def generate_fake_images(num_samples):\n",
    "    gen_data = rand(28 * 28 * num_samples)\n",
    "    gen_data = gen_data.reshape((num_samples, 28, 28, 1))\n",
    "    gen_labels = np.zeros((num_samples, 1))\n",
    "    return gen_data, gen_labels\n",
    "\n"
   ]
  },
  {
   "cell_type": "code",
   "execution_count": null,
   "metadata": {},
   "outputs": [],
   "source": []
  }
 ],
 "metadata": {
  "kernelspec": {
   "display_name": "Python 3",
   "language": "python",
   "name": "python3"
  },
  "language_info": {
   "codemirror_mode": {
    "name": "ipython",
    "version": 3
   },
   "file_extension": ".py",
   "mimetype": "text/x-python",
   "name": "python",
   "nbconvert_exporter": "python",
   "pygments_lexer": "ipython3",
   "version": "3.7.4"
  }
 },
 "nbformat": 4,
 "nbformat_minor": 2
}
